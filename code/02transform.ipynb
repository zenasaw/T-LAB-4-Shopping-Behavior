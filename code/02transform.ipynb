{
 "cells": [
  {
   "cell_type": "markdown",
   "metadata": {},
   "source": [
    "# Data Transformation I\n",
    "\n",
    "Next, we will begin transforming our dataset by dropping values. Our primary goal of this process is to:\n",
    "\n",
    "* drop rows with missing data\n",
    "* drop select columns with overwhelmingly missing data\n",
    "\n",
    "Utilize the documentation provided in each code-block. When you are done with this section of the project, validate that your output matches the screenshot provided in the `docs/part2.md` file."
   ]
  },
  {
   "cell_type": "code",
   "execution_count": 64,
   "metadata": {},
   "outputs": [],
   "source": [
    "import pandas as pd\n",
    "import numpy as np"
   ]
  },
  {
   "cell_type": "code",
   "execution_count": 65,
   "metadata": {},
   "outputs": [],
   "source": [
    "# TODO: load `data/raw/shopping.csv` as a pandas dataframe\n",
    "\n",
    "Df = pd.read_csv(\"../data/raw/shopping.csv\")"
   ]
  },
  {
   "cell_type": "code",
   "execution_count": 66,
   "metadata": {},
   "outputs": [
    {
     "data": {
      "text/plain": [
       "(3900, 15)"
      ]
     },
     "execution_count": 66,
     "metadata": {},
     "output_type": "execute_result"
    }
   ],
   "source": [
    "# TODO: print out the shape of this dataframe for better clarity\n",
    "# Documentation: https://pandas.pydata.org/docs/reference/api/pandas.DataFrame.shape.html\n",
    "\n",
    "Df.shape"
   ]
  },
  {
   "cell_type": "code",
   "execution_count": 67,
   "metadata": {},
   "outputs": [
    {
     "data": {
      "text/plain": [
       "Customer ID                  0\n",
       "Age                        390\n",
       "Gender                       0\n",
       "Item Purchased               0\n",
       "Purchase Amount (USD)        0\n",
       "Location                   390\n",
       "Size                         0\n",
       "Color                        0\n",
       "Season                       0\n",
       "Review Rating             2469\n",
       "Shipping Type                0\n",
       "Promo Code Used              0\n",
       "Previous Purchases           0\n",
       "Payment Method               0\n",
       "Frequency of Purchases    2340\n",
       "dtype: int64"
      ]
     },
     "execution_count": 67,
     "metadata": {},
     "output_type": "execute_result"
    }
   ],
   "source": [
    "# TODO: display how many null values are in each column of this dataframe\n",
    "# Documentation: https://datatofish.com/count-nan-pandas-dataframe/\n",
    "\n",
    "Df.isna().sum()"
   ]
  },
  {
   "cell_type": "code",
   "execution_count": 68,
   "metadata": {},
   "outputs": [],
   "source": [
    "# TODO: it looks like there is roughly 65% of data missing \"Frequency of Purchases\". Drop this column, as it is mostly empty and unneeded for our analysis.\n",
    "# In addition, also drop \"Customer ID\" as this column is also unnecessary\n",
    "# Reassign this dropped dataframe as a new variable\n",
    "# Documentation: drive.google.com/drive/folders/1pAWY1JqIQw26uhtT272AoDDeq7jtbkm2\n",
    "\n",
    "new_Df = Df.drop(['Frequency of Purchases', 'Customer ID'], axis =1)"
   ]
  },
  {
   "cell_type": "code",
   "execution_count": 69,
   "metadata": {},
   "outputs": [
    {
     "data": {
      "text/plain": [
       "(3900, 13)"
      ]
     },
     "execution_count": 69,
     "metadata": {},
     "output_type": "execute_result"
    }
   ],
   "source": [
    "# TODO: print out the shape of this dataframe and verify that the shape is \"(3900, 13)\"\n",
    "\n",
    "new_Df.shape"
   ]
  },
  {
   "cell_type": "code",
   "execution_count": 70,
   "metadata": {},
   "outputs": [],
   "source": [
    "# TODO: while \"Review Rating\" is also mostly empty, we are interested in figuring out why some users\n",
    "# leave reviews and others don't. \n",
    "\n",
    "# Therefore we will NOT drop this column. Instead, let's reassign \n",
    "# all missing values in \"Review Rating\" with \"Missing\", and all non-na values as \"Present\"\n",
    "# Documentation: https://pandas.pydata.org/docs/reference/api/pandas.DataFrame.replace.html\n",
    "\n",
    "new_Df[\"Review Rating\"] = new_Df[\"Review Rating\"].\\\n",
    "    where (new_Df[\"Review Rating\"].isna(), \"Present\").\\\n",
    "    where (new_Df[\"Review Rating\"].notna(), \"Missing\")\n"
   ]
  },
  {
   "cell_type": "code",
   "execution_count": 71,
   "metadata": {},
   "outputs": [
    {
     "data": {
      "text/html": [
       "<div>\n",
       "<style scoped>\n",
       "    .dataframe tbody tr th:only-of-type {\n",
       "        vertical-align: middle;\n",
       "    }\n",
       "\n",
       "    .dataframe tbody tr th {\n",
       "        vertical-align: top;\n",
       "    }\n",
       "\n",
       "    .dataframe thead th {\n",
       "        text-align: right;\n",
       "    }\n",
       "</style>\n",
       "<table border=\"1\" class=\"dataframe\">\n",
       "  <thead>\n",
       "    <tr style=\"text-align: right;\">\n",
       "      <th></th>\n",
       "      <th>Age</th>\n",
       "      <th>Gender</th>\n",
       "      <th>Item Purchased</th>\n",
       "      <th>Purchase Amount (USD)</th>\n",
       "      <th>Location</th>\n",
       "      <th>Size</th>\n",
       "      <th>Color</th>\n",
       "      <th>Season</th>\n",
       "      <th>Review Rating</th>\n",
       "      <th>Shipping Type</th>\n",
       "      <th>Promo Code Used</th>\n",
       "      <th>Previous Purchases</th>\n",
       "      <th>Payment Method</th>\n",
       "    </tr>\n",
       "  </thead>\n",
       "  <tbody>\n",
       "    <tr>\n",
       "      <th>2</th>\n",
       "      <td>31.0</td>\n",
       "      <td>Male</td>\n",
       "      <td>Leggings</td>\n",
       "      <td>24.231704</td>\n",
       "      <td>Nevada</td>\n",
       "      <td>M</td>\n",
       "      <td>Terra cotta</td>\n",
       "      <td>Winter</td>\n",
       "      <td>Present</td>\n",
       "      <td>Standard</td>\n",
       "      <td>No</td>\n",
       "      <td>0</td>\n",
       "      <td>Credit Card</td>\n",
       "    </tr>\n",
       "    <tr>\n",
       "      <th>4</th>\n",
       "      <td>38.0</td>\n",
       "      <td>Male</td>\n",
       "      <td>Sunglasses</td>\n",
       "      <td>36.545487</td>\n",
       "      <td>Oregon</td>\n",
       "      <td>S</td>\n",
       "      <td>Aubergine</td>\n",
       "      <td>Summer</td>\n",
       "      <td>Missing</td>\n",
       "      <td>Standard</td>\n",
       "      <td>No</td>\n",
       "      <td>0</td>\n",
       "      <td>Credit Card</td>\n",
       "    </tr>\n",
       "    <tr>\n",
       "      <th>5</th>\n",
       "      <td>26.0</td>\n",
       "      <td>Male</td>\n",
       "      <td>Leggings</td>\n",
       "      <td>23.595139</td>\n",
       "      <td>Nevada</td>\n",
       "      <td>XL</td>\n",
       "      <td>Brown</td>\n",
       "      <td>Winter</td>\n",
       "      <td>Missing</td>\n",
       "      <td>Standard</td>\n",
       "      <td>No</td>\n",
       "      <td>3</td>\n",
       "      <td>Credit Card</td>\n",
       "    </tr>\n",
       "    <tr>\n",
       "      <th>6</th>\n",
       "      <td>43.0</td>\n",
       "      <td>Male</td>\n",
       "      <td>Dress</td>\n",
       "      <td>34.079015</td>\n",
       "      <td>California</td>\n",
       "      <td>M</td>\n",
       "      <td>Terra cotta</td>\n",
       "      <td>Fall</td>\n",
       "      <td>Present</td>\n",
       "      <td>Standard</td>\n",
       "      <td>No</td>\n",
       "      <td>0</td>\n",
       "      <td>Credit Card</td>\n",
       "    </tr>\n",
       "    <tr>\n",
       "      <th>7</th>\n",
       "      <td>29.0</td>\n",
       "      <td>Male</td>\n",
       "      <td>Shorts</td>\n",
       "      <td>23.796439</td>\n",
       "      <td>Minnesota</td>\n",
       "      <td>M</td>\n",
       "      <td>Lavender</td>\n",
       "      <td>Summer</td>\n",
       "      <td>Present</td>\n",
       "      <td>Express</td>\n",
       "      <td>No</td>\n",
       "      <td>0</td>\n",
       "      <td>Credit Card</td>\n",
       "    </tr>\n",
       "    <tr>\n",
       "      <th>...</th>\n",
       "      <td>...</td>\n",
       "      <td>...</td>\n",
       "      <td>...</td>\n",
       "      <td>...</td>\n",
       "      <td>...</td>\n",
       "      <td>...</td>\n",
       "      <td>...</td>\n",
       "      <td>...</td>\n",
       "      <td>...</td>\n",
       "      <td>...</td>\n",
       "      <td>...</td>\n",
       "      <td>...</td>\n",
       "      <td>...</td>\n",
       "    </tr>\n",
       "    <tr>\n",
       "      <th>3894</th>\n",
       "      <td>39.0</td>\n",
       "      <td>Male</td>\n",
       "      <td>Running Shoes</td>\n",
       "      <td>55.636680</td>\n",
       "      <td>Kansas</td>\n",
       "      <td>L</td>\n",
       "      <td>White</td>\n",
       "      <td>Summer</td>\n",
       "      <td>Missing</td>\n",
       "      <td>2-Day Shipping</td>\n",
       "      <td>Yes</td>\n",
       "      <td>11</td>\n",
       "      <td>Venmo</td>\n",
       "    </tr>\n",
       "    <tr>\n",
       "      <th>3895</th>\n",
       "      <td>43.0</td>\n",
       "      <td>Female</td>\n",
       "      <td>Sunglasses</td>\n",
       "      <td>61.610602</td>\n",
       "      <td>Colorado</td>\n",
       "      <td>S</td>\n",
       "      <td>Burnt orange</td>\n",
       "      <td>Fall</td>\n",
       "      <td>Missing</td>\n",
       "      <td>2-Day Shipping</td>\n",
       "      <td>Yes</td>\n",
       "      <td>7</td>\n",
       "      <td>Venmo</td>\n",
       "    </tr>\n",
       "    <tr>\n",
       "      <th>3896</th>\n",
       "      <td>37.0</td>\n",
       "      <td>Male</td>\n",
       "      <td>Pajamas</td>\n",
       "      <td>44.600556</td>\n",
       "      <td>Alaska</td>\n",
       "      <td>S</td>\n",
       "      <td>Aubergine</td>\n",
       "      <td>Winter</td>\n",
       "      <td>Present</td>\n",
       "      <td>2-Day Shipping</td>\n",
       "      <td>Yes</td>\n",
       "      <td>20</td>\n",
       "      <td>Venmo</td>\n",
       "    </tr>\n",
       "    <tr>\n",
       "      <th>3898</th>\n",
       "      <td>39.0</td>\n",
       "      <td>Male</td>\n",
       "      <td>Hoodie</td>\n",
       "      <td>45.343778</td>\n",
       "      <td>Illinois</td>\n",
       "      <td>S</td>\n",
       "      <td>Brick red</td>\n",
       "      <td>Fall</td>\n",
       "      <td>Missing</td>\n",
       "      <td>2-Day Shipping</td>\n",
       "      <td>Yes</td>\n",
       "      <td>3</td>\n",
       "      <td>Venmo</td>\n",
       "    </tr>\n",
       "    <tr>\n",
       "      <th>3899</th>\n",
       "      <td>21.0</td>\n",
       "      <td>Female</td>\n",
       "      <td>Gloves</td>\n",
       "      <td>49.439181</td>\n",
       "      <td>North Dakota</td>\n",
       "      <td>M</td>\n",
       "      <td>Aubergine</td>\n",
       "      <td>Winter</td>\n",
       "      <td>Present</td>\n",
       "      <td>2-Day Shipping</td>\n",
       "      <td>Yes</td>\n",
       "      <td>2</td>\n",
       "      <td>Venmo</td>\n",
       "    </tr>\n",
       "  </tbody>\n",
       "</table>\n",
       "<p>3158 rows × 13 columns</p>\n",
       "</div>"
      ],
      "text/plain": [
       "       Age  Gender Item Purchased  Purchase Amount (USD)      Location Size  \\\n",
       "2     31.0    Male       Leggings              24.231704        Nevada    M   \n",
       "4     38.0    Male     Sunglasses              36.545487        Oregon    S   \n",
       "5     26.0    Male       Leggings              23.595139        Nevada   XL   \n",
       "6     43.0    Male          Dress              34.079015    California    M   \n",
       "7     29.0    Male         Shorts              23.796439     Minnesota    M   \n",
       "...    ...     ...            ...                    ...           ...  ...   \n",
       "3894  39.0    Male  Running Shoes              55.636680        Kansas    L   \n",
       "3895  43.0  Female     Sunglasses              61.610602      Colorado    S   \n",
       "3896  37.0    Male        Pajamas              44.600556        Alaska    S   \n",
       "3898  39.0    Male         Hoodie              45.343778      Illinois    S   \n",
       "3899  21.0  Female         Gloves              49.439181  North Dakota    M   \n",
       "\n",
       "             Color  Season Review Rating   Shipping Type Promo Code Used  \\\n",
       "2      Terra cotta  Winter       Present        Standard              No   \n",
       "4        Aubergine  Summer       Missing        Standard              No   \n",
       "5            Brown  Winter       Missing        Standard              No   \n",
       "6      Terra cotta    Fall       Present        Standard              No   \n",
       "7         Lavender  Summer       Present         Express              No   \n",
       "...            ...     ...           ...             ...             ...   \n",
       "3894         White  Summer       Missing  2-Day Shipping             Yes   \n",
       "3895  Burnt orange    Fall       Missing  2-Day Shipping             Yes   \n",
       "3896     Aubergine  Winter       Present  2-Day Shipping             Yes   \n",
       "3898     Brick red    Fall       Missing  2-Day Shipping             Yes   \n",
       "3899     Aubergine  Winter       Present  2-Day Shipping             Yes   \n",
       "\n",
       "      Previous Purchases Payment Method  \n",
       "2                      0    Credit Card  \n",
       "4                      0    Credit Card  \n",
       "5                      3    Credit Card  \n",
       "6                      0    Credit Card  \n",
       "7                      0    Credit Card  \n",
       "...                  ...            ...  \n",
       "3894                  11          Venmo  \n",
       "3895                   7          Venmo  \n",
       "3896                  20          Venmo  \n",
       "3898                   3          Venmo  \n",
       "3899                   2          Venmo  \n",
       "\n",
       "[3158 rows x 13 columns]"
      ]
     },
     "execution_count": 71,
     "metadata": {},
     "output_type": "execute_result"
    }
   ],
   "source": [
    "# TODO: Now that we've dropped and transformed our columns, drop the remaining rows that contain missing values\n",
    "# Documentation: https://pandas.pydata.org/docs/reference/api/pandas.DataFrame.dropna.html\n",
    "\n",
    "new_Df.isna().sum()\n",
    "new_Df.dropna()\n"
   ]
  },
  {
   "cell_type": "code",
   "execution_count": 72,
   "metadata": {},
   "outputs": [
    {
     "name": "stdout",
     "output_type": "stream",
     "text": [
      "Number of null values: 780\n"
     ]
    }
   ],
   "source": [
    "# TODO: display how many null values are in each column of this dataframe\n",
    "# validate that each column has no missing values\n",
    "\n",
    "null_count = new_Df.isnull().sum().sum()\n",
    "print('Number of null values:', null_count)\n"
   ]
  },
  {
   "cell_type": "code",
   "execution_count": 73,
   "metadata": {},
   "outputs": [
    {
     "data": {
      "text/plain": [
       "(3900, 13)"
      ]
     },
     "execution_count": 73,
     "metadata": {},
     "output_type": "execute_result"
    }
   ],
   "source": [
    "# TODO: print out the shape of this dataframe and verify that the shape is \"(3158, 13)\"\n",
    "\n",
    "new_Df.shape"
   ]
  },
  {
   "cell_type": "code",
   "execution_count": 74,
   "metadata": {},
   "outputs": [
    {
     "data": {
      "text/plain": [
       "<bound method NDFrame.head of        Age  Gender Item Purchased  Purchase Amount (USD)      Location Size  \\\n",
       "0      NaN    Male         Jacket              30.904467         Maine    M   \n",
       "1     21.0  Female       Backpack              31.588259           NaN    L   \n",
       "2     31.0    Male       Leggings              24.231704        Nevada    M   \n",
       "3      NaN    Male        Pajamas              33.918834      Nebraska    M   \n",
       "4     38.0    Male     Sunglasses              36.545487        Oregon    S   \n",
       "...    ...     ...            ...                    ...           ...  ...   \n",
       "3895  43.0  Female     Sunglasses              61.610602      Colorado    S   \n",
       "3896  37.0    Male        Pajamas              44.600556        Alaska    S   \n",
       "3897   NaN  Female        Handbag              41.781965       Wyoming    M   \n",
       "3898  39.0    Male         Hoodie              45.343778      Illinois    S   \n",
       "3899  21.0  Female         Gloves              49.439181  North Dakota    M   \n",
       "\n",
       "             Color  Season Review Rating   Shipping Type Promo Code Used  \\\n",
       "0     Burnt orange    Fall       Present        Standard              No   \n",
       "1        Turquoise  Winter       Present         Express              No   \n",
       "2      Terra cotta  Winter       Present        Standard              No   \n",
       "3            Black  Winter       Missing        Standard              No   \n",
       "4        Aubergine  Summer       Missing        Standard              No   \n",
       "...            ...     ...           ...             ...             ...   \n",
       "3895  Burnt orange    Fall       Missing  2-Day Shipping             Yes   \n",
       "3896     Aubergine  Winter       Present  2-Day Shipping             Yes   \n",
       "3897       Fuchsia  Summer       Missing        Standard             Yes   \n",
       "3898     Brick red    Fall       Missing  2-Day Shipping             Yes   \n",
       "3899     Aubergine  Winter       Present  2-Day Shipping             Yes   \n",
       "\n",
       "      Previous Purchases Payment Method  \n",
       "0                      0    Credit Card  \n",
       "1                      1    Credit Card  \n",
       "2                      0    Credit Card  \n",
       "3                      2    Credit Card  \n",
       "4                      0    Credit Card  \n",
       "...                  ...            ...  \n",
       "3895                   7          Venmo  \n",
       "3896                  20          Venmo  \n",
       "3897                  13          Venmo  \n",
       "3898                   3          Venmo  \n",
       "3899                   2          Venmo  \n",
       "\n",
       "[3900 rows x 13 columns]>"
      ]
     },
     "execution_count": 74,
     "metadata": {},
     "output_type": "execute_result"
    }
   ],
   "source": [
    "# TODO: print out the first 5 rows of this dataframe for validation\n",
    "\n",
    "new_Df.head"
   ]
  },
  {
   "cell_type": "code",
   "execution_count": 75,
   "metadata": {},
   "outputs": [],
   "source": [
    "# TODO: write this newly transformed dataset to the `data/processed` folder. Name it \"shopping_cleaned.csv\" \n",
    "# Be sure to not include an additional index when writing this csv file\n",
    "# Documentation: https://pandas.pydata.org/docs/reference/api/pandas.DataFrame.to_csv.html\n",
    "\n",
    "from pathlib import Path  \n",
    "filepath = Path('data/processed.csv')  \n",
    "filepath.parent.mkdir(parents=True, exist_ok=True)  \n",
    "new_Df.to_csv(filepath)  "
   ]
  }
 ],
 "metadata": {
  "kernelspec": {
   "display_name": "Python 3",
   "language": "python",
   "name": "python3"
  },
  "language_info": {
   "codemirror_mode": {
    "name": "ipython",
    "version": 3
   },
   "file_extension": ".py",
   "mimetype": "text/x-python",
   "name": "python",
   "nbconvert_exporter": "python",
   "pygments_lexer": "ipython3",
   "version": "3.9.18"
  }
 },
 "nbformat": 4,
 "nbformat_minor": 2
}
